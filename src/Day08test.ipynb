{
 "cells": [
  {
   "cell_type": "code",
   "metadata": {
    "ExecuteTime": {
     "end_time": "2024-12-08T23:35:44.418370Z",
     "start_time": "2024-12-08T23:35:43.811088Z"
    }
   },
   "source": [
    "\n",
    "import kotlin.io.path.readText\n",
    "import kotlin.io.path.*\n",
    "\n",
    "val input = Path(\"example.txt\").readText().trim().lines()\n",
    "val yMax = input.size - 1\n",
    "val xMax = input.first().length - 1\n",
    "\n",
    "val antennasCoordinates = input.flatMapIndexed { y, string ->\n",
    "    string.mapIndexed { x, ch -> ch to (x to y) }\n",
    "        .filter { it.first != '.' }\n",
    "}.groupBy(keySelector = { pair -> pair.first }, valueTransform = { pair -> pair.second })\n",
    "\n",
    "val antinodes = mutableSetOf<Pair<Int, Int>>()\n",
    "antennasCoordinates.forEach { charToCoordinates ->\n",
    "    val coordinates = charToCoordinates.value\n",
    "    for (i in 0 ..< coordinates.size - 1) {\n",
    "        for (j in i + 1 ..< coordinates.size) {\n",
    "            val a = coordinates[i]\n",
    "            val b = coordinates[j]\n",
    "            val diff = (b.first - a.first) to (b.second - a.second)\n",
    "            antinodes.add((b.first + diff.first) to (b.second + diff.second))\n",
    "            antinodes.add((a.first - diff.first) to (a.second - diff.second))\n",
    "        }\n",
    "    }\n",
    "}\n",
    "val filteredAntinodes = antinodes.filter { (x, y) -> x in 0..xMax && y in 0..yMax }\n",
    "filteredAntinodes"
   ],
   "outputs": [
    {
     "data": {
      "text/plain": [
       "[(2, 3), (11, 0), (6, 5), (0, 7), (9, 4), (3, 1), (3, 6), (6, 0), (1, 5), (10, 2), (10, 11), (4, 2), (10, 10), (7, 7)]"
      ]
     },
     "execution_count": 1,
     "metadata": {},
     "output_type": "execute_result"
    }
   ],
   "execution_count": 1
  },
  {
   "metadata": {
    "collapsed": true,
    "ExecuteTime": {
     "end_time": "2024-12-08T23:35:44.535991Z",
     "start_time": "2024-12-08T23:35:44.428835Z"
    }
   },
   "cell_type": "code",
   "source": [
    "import kotlinx.coroutines.delay\n",
    "\n",
    "input\n",
    "    .mapIndexed { y, string ->\n",
    "        string.toCharArray().toMutableList().mapIndexed { x, char ->\n",
    "            if (\n",
    "                char == '.' &&\n",
    "                filteredAntinodes.contains(x to y)\n",
    "            ) {\n",
    "                '#'\n",
    "            } else {\n",
    "                char\n",
    "            }\n",
    "        }.joinToString(\"\")\n",
    "    }.forEach {\n",
    "        println(it)\n",
    "    }\n"
   ],
   "outputs": [
    {
     "name": "stdout",
     "output_type": "stream",
     "text": [
      "......#....#\n",
      "...#....0...\n",
      "....#0....#.\n",
      "..#....0....\n",
      "....0....#..\n",
      ".#....A.....\n",
      "...#........\n",
      "#......#....\n",
      "........A...\n",
      ".........A..\n",
      "..........#.\n",
      "..........#.\n"
     ]
    }
   ],
   "execution_count": 2
  },
  {
   "metadata": {
    "ExecuteTime": {
     "end_time": "2024-12-08T23:39:53.886136Z",
     "start_time": "2024-12-08T23:39:53.668610Z"
    }
   },
   "cell_type": "code",
   "source": [
    "val antinodes2 = mutableSetOf<Pair<Int, Int>>()\n",
    "antennasCoordinates.forEach { charToCoordinates ->\n",
    "    val coordinates = charToCoordinates.value\n",
    "    for (i in 0 ..< coordinates.size - 1) {\n",
    "        for (j in i + 1 ..< coordinates.size) {\n",
    "            var a = coordinates[i]\n",
    "            var b = coordinates[j]\n",
    "            val diff = (b.first - a.first) to (b.second - a.second)\n",
    "            while (b.first + diff.first in 0..xMax && b.second + diff.second in 0..yMax) {\n",
    "                b = (b.first + diff.first) to (b.second + diff.second)\n",
    "                antinodes2.add(b)\n",
    "            }\n",
    "\n",
    "            while (a.first - diff.first in 0..xMax && a.second - diff.second in 0..yMax) {\n",
    "                a = (a.first - diff.first) to (a.second - diff.second)\n",
    "                antinodes2.add(a)\n",
    "            }\n",
    "        }\n",
    "    }\n",
    "}\n",
    "val filteredAntinodes2 = antinodes2.filter { (x, y) -> x in 0..xMax && y in 0..yMax }\n",
    "(antinodes2 + antennasCoordinates.flatMap { it.value }).distinct().size"
   ],
   "outputs": [
    {
     "data": {
      "text/plain": [
       "34"
      ]
     },
     "execution_count": 7,
     "metadata": {},
     "output_type": "execute_result"
    }
   ],
   "execution_count": 7
  },
  {
   "metadata": {
    "ExecuteTime": {
     "end_time": "2024-12-08T23:35:44.721774Z",
     "start_time": "2024-12-08T23:35:44.719294Z"
    }
   },
   "cell_type": "code",
   "source": "",
   "outputs": [],
   "execution_count": null
  }
 ],
 "metadata": {
  "kernelspec": {
   "display_name": "Kotlin",
   "language": "kotlin",
   "name": "kotlin"
  },
  "language_info": {
   "name": "kotlin",
   "version": "1.9.23",
   "mimetype": "text/x-kotlin",
   "file_extension": ".kt",
   "pygments_lexer": "kotlin",
   "codemirror_mode": "text/x-kotlin",
   "nbconvert_exporter": ""
  }
 },
 "nbformat": 4,
 "nbformat_minor": 0
}
